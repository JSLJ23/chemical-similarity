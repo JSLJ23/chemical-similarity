{
 "cells": [
  {
   "cell_type": "code",
   "execution_count": 12,
   "metadata": {},
   "outputs": [],
   "source": [
    "# All imports\n",
    "\n",
    "from chem_sim_search.similarity import similarity_score\n",
    "from time import perf_counter"
   ]
  },
  {
   "cell_type": "code",
   "execution_count": 10,
   "metadata": {},
   "outputs": [
    {
     "name": "stdout",
     "output_type": "stream",
     "text": [
      "0.71875\n"
     ]
    }
   ],
   "source": [
    "# This is a simple demonstration to show scoring two molecules.\n",
    "\n",
    "# This is paracetamol (Acetaminophen).\n",
    "molecule_1 = \"CC(=O)NC1=CC=C(C=C1)O\"\n",
    "# This is a paracetamol derivative (3',5'-Dimethylacetaminophen).\n",
    "molecule_2 = \"CC1=CC(=CC(=C1O)C)NC(=O)C\"\n",
    "\n",
    "# Run similarity scoring between both these drugs\n",
    "score = similarity_score(molecule_1, molecule_2)\n",
    "print(score)"
   ]
  },
  {
   "cell_type": "code",
   "execution_count": 16,
   "metadata": {},
   "outputs": [
    {
     "name": "stdout",
     "output_type": "stream",
     "text": [
      "<class 'list'>\n"
     ]
    }
   ],
   "source": [
    "# Import library text file into python and check imported type to be list\n",
    "\n",
    "data = \"./data/rtl_first_100.txt\"\n",
    "\n",
    "with open(data) as file:\n",
    "    smiles_list = file.readlines()\n",
    "\n",
    "print(type(smiles_list))"
   ]
  },
  {
   "cell_type": "code",
   "execution_count": 17,
   "metadata": {},
   "outputs": [
    {
     "name": "stdout",
     "output_type": "stream",
     "text": [
      "[0.2765957446808511, 0.2765957446808511, 0.2736842105263158, 0.1935483870967742, 0.2736842105263158, 0.22641509433962265, 0.17475728155339806, 0.20952380952380953, 0.205607476635514, 0.205607476635514, 0.21568627450980393, 0.19696969696969696, 0.1935483870967742, 0.22807017543859648, 0.20869565217391303, 0.32653061224489793, 0.26666666666666666, 0.17266187050359713, 0.16901408450704225, 0.2736842105263158, 0.2376237623762376, 0.2018348623853211, 0.2857142857142857, 0.2765957446808511, 0.2549019607843137, 0.24761904761904763, 0.34408602150537637, 0.1986754966887417, 0.25287356321839083, 0.2716049382716049, 0.3333333333333333, 0.1986754966887417, 0.17142857142857143, 0.2696629213483146, 0.2702702702702703, 0.17142857142857143, 0.19469026548672566, 0.34782608695652173, 0.36363636363636365, 0.24489795918367346, 0.3368421052631579, 0.33766233766233766, 0.3010752688172043, 0.3010752688172043, 0.3333333333333333, 0.24742268041237114, 0.2328767123287671, 0.27956989247311825, 0.24444444444444444, 0.2736842105263158, 0.27586206896551724, 0.34782608695652173, 0.28865979381443296, 0.23529411764705882, 0.1917808219178082, 0.34, 0.3469387755102041, 0.20408163265306123, 0.21782178217821782, 0.26548672566371684, 0.22, 0.1836734693877551, 0.35, 0.30612244897959184, 0.20754716981132076, 0.2716049382716049, 0.22818791946308725, 0.29473684210526313, 0.2826086956521739, 0.17266187050359713, 0.2558139534883721, 0.22666666666666666, 0.22608695652173913, 0.2736842105263158, 0.25925925925925924, 0.2619047619047619, 0.16326530612244897, 0.2916666666666667, 0.16901408450704225, 0.2828282828282828, 0.2553191489361702, 0.2978723404255319, 0.21374045801526717, 0.25742574257425743, 0.2558139534883721, 0.27184466019417475, 0.25742574257425743, 0.25742574257425743, 0.23655913978494625, 0.27956989247311825, 0.1984732824427481, 0.2, 0.2830188679245283, 0.3023255813953488, 0.2916666666666667, 0.2857142857142857, 0.2553191489361702, 0.19607843137254902, 0.19801980198019803, 0.15384615384615385]\n"
     ]
    }
   ],
   "source": [
    "query_drug_smiles = \"C1(N=C(C=CN1[C@@H]2O[C@H]([C@H](C2(F)F)O)CO)N)=O.Cl\"\n",
    "\n",
    "# Initialize an empty list to append scores to...\n",
    "similarity_scores = []\n",
    "\n",
    "for smile in smiles_list:\n",
    "    score = similarity_score(query_drug_smiles, smile)\n",
    "    similarity_scores.append(score)\n",
    "\n",
    "print(similarity_scores)"
   ]
  }
 ],
 "metadata": {
  "interpreter": {
   "hash": "0ebd5623b79f8f1159722a3da57a3e68dd587c228af8185669cd79637e07552a"
  },
  "kernelspec": {
   "display_name": "Python 3.9.7 ('Cheminformatics-V2')",
   "language": "python",
   "name": "python3"
  },
  "language_info": {
   "codemirror_mode": {
    "name": "ipython",
    "version": 3
   },
   "file_extension": ".py",
   "mimetype": "text/x-python",
   "name": "python",
   "nbconvert_exporter": "python",
   "pygments_lexer": "ipython3",
   "version": "3.9.7"
  },
  "orig_nbformat": 4
 },
 "nbformat": 4,
 "nbformat_minor": 2
}
