{
 "cells": [
  {
   "cell_type": "code",
   "execution_count": 1,
   "metadata": {},
   "outputs": [],
   "source": [
    "# All imports\n",
    "from chem_sim_search.similarity import score_similarity, sdf_to_smiles\n",
    "from time import perf_counter"
   ]
  },
  {
   "cell_type": "code",
   "execution_count": 2,
   "metadata": {},
   "outputs": [
    {
     "name": "stdout",
     "output_type": "stream",
     "text": [
      "0.71875\n"
     ]
    }
   ],
   "source": [
    "# This is a simple demonstration to show scoring two molecules.\n",
    "\n",
    "# This is paracetamol (Acetaminophen).\n",
    "molecule_1 = \"CC(=O)NC1=CC=C(C=C1)O\"\n",
    "# This is a paracetamol derivative (3',5'-Dimethylacetaminophen).\n",
    "molecule_2 = \"CC1=CC(=CC(=C1O)C)NC(=O)C\"\n",
    "\n",
    "# Run similarity scoring between both these drugs\n",
    "score = score_similarity(molecule_1, molecule_2)\n",
    "print(score)"
   ]
  },
  {
   "cell_type": "code",
   "execution_count": 3,
   "metadata": {},
   "outputs": [
    {
     "name": "stdout",
     "output_type": "stream",
     "text": [
      "9352\n",
      "<class 'str'>\n"
     ]
    }
   ],
   "source": [
    "# Load the SDF file drug library of 9352 epigenetic drugs.\n",
    "sdf_data = \"./data/epigenetics_library.sdf\"\n",
    "\n",
    "results = sdf_to_smiles(sdf_data)\n",
    "\n",
    "print(len(results))\n",
    "\n",
    "print(type(results[1]))"
   ]
  },
  {
   "cell_type": "code",
   "execution_count": 5,
   "metadata": {},
   "outputs": [],
   "source": [
    "# The query drug is a specific inhibitor of EHMT2/G9a.\n",
    "# Perform a similarity search of this drug against the Enamine epignetics drug library.\n",
    "\n",
    "query_drug = \"CC(C)N1CCC(CC1)NC2=NC(=NC3=CC(=C(C=C32)OC)OCCCN4CCCC4)N5CCC(CC5)(F)F\"\n",
    "\n",
    "similarity_scores = []\n",
    "\n",
    "for smiles in results:\n",
    "    similarity_score = score_similarity(query_drug, smiles)\n",
    "    similarity_scores.append(similarity_score)"
   ]
  },
  {
   "cell_type": "code",
   "execution_count": 8,
   "metadata": {},
   "outputs": [
    {
     "name": "stdout",
     "output_type": "stream",
     "text": [
      "0.5291005291005291\n",
      "3500\n",
      "Cc1sc2nc(CN3CCC(C)CC3)nc(NC3CCC(O)CC3)c2c1C\n"
     ]
    }
   ],
   "source": [
    "max_Score = max(similarity_scores)\n",
    "print(max_Score)\n",
    "\n",
    "max_index = similarity_scores.index(max_Score)\n",
    "print(max_index)\n",
    "\n",
    "print(results[max_index])"
   ]
  }
 ],
 "metadata": {
  "interpreter": {
   "hash": "0ebd5623b79f8f1159722a3da57a3e68dd587c228af8185669cd79637e07552a"
  },
  "kernelspec": {
   "display_name": "Python 3.9.7 ('Cheminformatics-V2')",
   "language": "python",
   "name": "python3"
  },
  "language_info": {
   "codemirror_mode": {
    "name": "ipython",
    "version": 3
   },
   "file_extension": ".py",
   "mimetype": "text/x-python",
   "name": "python",
   "nbconvert_exporter": "python",
   "pygments_lexer": "ipython3",
   "version": "3.9.7"
  },
  "orig_nbformat": 4
 },
 "nbformat": 4,
 "nbformat_minor": 2
}
